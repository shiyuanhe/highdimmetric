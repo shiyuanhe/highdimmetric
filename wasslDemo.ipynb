{
 "cells": [
  {
   "cell_type": "markdown",
   "metadata": {},
   "source": [
    "## Projected Wasserstein metric for distribution comparison\n",
    "\n",
    "Suppose we have observed $d$-dimensional $x_1, \\cdots, x_M\\in\\mathbb{R}^d$ following the distribution of a random variable $X\\sim p$. In addition, we  observe another group of observations $y_1, \\cdots, y_N\\in\\mathbb{R}^d$ which follow the distribution of a random variable $Y\\sim q$. Our target is to compute the distance between the two samples. To do so, we repeatedly carry out:\n",
    "\n",
    "\n",
    "1. Randomly draw a unit vector $v\\in\\mathbb{R}^d$ ($\\|v \\|_2 = 1$)\n",
    "2. Project the samples of $X$ onto this direction, i.e., compute vector inner product $r_i = \\langle x_i, v\\rangle$ for $i=1,\\cdots,M$.\n",
    "3. Project the samples of $Y$ onto this direction, i.e., compute vector inner product $s_j = \\langle y_j, v\\rangle$ for $j=1,\\cdots, N$.\n",
    "4. Compute the Wasserstein distance $D\\big(\\{r_i\\}_{i=1}^M, \\{s_j\\}_{j=1}^N\\big)$ between two one-dimensional data samples $\\{r_i\\}_{i=1}^M$ and $\\{s_j\\}_{j=1}^N$.\n",
    "\n",
    "Step 1--4 are repeated multiple times and the average distance is computed as our final discrepancy measure. The details of Step 4 are provided below. \n",
    "\n",
    "### Computation of one-dimensional Wasserstein distance\n",
    "In order to compute the Wasserstein distance between $\\{r_i\\}_{i=1}^M$ and $\\{s_j\\}_{j=1}^N$ on the real axis $\\mathbb{R}$, the two samples are discretized firstly:\n",
    "\n",
    "- Let $r_\\max$ and $r_\\min$ being the maximum and minimum value of $\\{r_i\\}_{i=1}^M$, respectively. Then each projected sample $r_i$ is inside the interval $[r_\\min, r_\\max]$. The interval is equally cut into 200 subintervals $\\mathcal{I} = [r_\\min, r_\\max]=\\cup_{a=1}^{200} \\mathcal{I}_a$, with the $a$-th subinterval being\n",
    "$$\n",
    "\\mathcal{I}_a = [r_\\min + (a-1) \\Delta_r,\\, r_\\min + a \\Delta_r),\\quad \\text{ and } \\quad\n",
    "\\Delta_r = (r_\\max - r_\\min)/200.\n",
    "$$\n",
    "Let $C(\\mathcal{I}_a) = |\\{r_i:\\, r_i\\in \\mathcal{I}_a\\}|$ be the number of projected samples inside the subinterval $\\mathcal{I}_a$. Then \n",
    "$P_a = C(\\mathcal{I}_a) / M$ is *proportion* of projected samples inside the subinterval $\\mathcal{I}_a$.\n",
    "In fact, $P_a$ is a discretized probability distribution for $\\{r_i\\}_{i=1}^M$.\n",
    "- The same procedure is carried out for  $\\{s_j\\}_{j=1}^N$. Let $s_\\max$ and $s_\\min$ being the maximum and minimum value of $\\{s_i\\}_{i=1}^N$, respectively. The interval $[s_\\min, s_\\max]$ is equally cut into 200 subintervals $\\mathcal{J} = [s_\\min, s_\\max]=\\cup_{b=1}^{200} \\mathcal{J}_b$, with the $b$-th subinterval being\n",
    "$$\n",
    "\\mathcal{J}_b = [s_\\min + (b-1) \\Delta_s,\\, s_\\min + b \\Delta_s),\\quad \\text{ and } \\quad\n",
    "\\Delta_s = (s_\\max - s_\\min)/200.\n",
    "$$\n",
    "Let $C(\\mathcal{J}_b) = |\\{s_j:\\, s_j\\in \\mathcal{J}_b\\}|$ be the number of projected samples inside the subinterval $\\mathcal{J}_b$. Then \n",
    "$Q_b = C(\\mathcal{J}_b) / N$ is *proportion* of projected samples inside the subinterval $\\mathcal{J}_b$.\n",
    "In fact, $Q_b$ is a discretized probability distribution for $\\{s_j\\}_{j=1}^N$.\n",
    "\n",
    "The Wasserstein distance is computed by matching the first distribution $\\{P_a\\}_{a=1}^{200}$ to the second \n",
    "$\\{Q_a\\}_{a=1}^{200}$. To do so, it tries to make minimal amount of adjustment to $\\{P_a\\}_{a=1}^{200}$, such that the first distribution looks exactly like the second $\\{Q_a\\}_{a=1}^{200}$. Obviously, the closer the two distributions, the less effort is required to match the two distribuitons.\n",
    "\n",
    "To quantify the amount of effort, let $T_{ab}$ be the proportion of the first sample inside the subinterval $\\mathcal{I}_a$ that should be moved (transported) to $\\mathcal{J}_b$. \n",
    "- The cost of one such transportation is the distance between the two subintervals, i.e., between $\\mathcal{I}_a$ and  $\\mathcal{J}_b$. Let $L_{Ia} = r_\\min + a \\Delta_r$  and $L_{Jb} = s_\\min + b \\Delta_s$ be the upper bound of the subintervals. Then the transportation cost is computed by\n",
    "$D_{ab} = |L_{Ia} - L_{Jb}|$.\n",
    "- As all the transported samples come from the first distribution, we require the marginal condition $P_a = \\sum_{b=1}^{200} T_{ab}$. That is, samples originated from $\\mathcal{I}_a$ should have the proportion $P_a$ exactly. \n",
    "- On the other hand, we also require another marginal condition $Q_b = \\sum_{a=1}^{200} T_{ab}$. This means that, after transportation, the first sample exactly looks like the second.\n",
    "\n",
    "All of these enable us to formulate the problem as an optimal transportation problem. The transportation plan $T_{ab}$ for $a,b=1,\\cdots, 200$ should satisfy the two mariginal conditions. At the same time, it should have minimal transportation cost. \n",
    "$$\n",
    "\\begin{align}\n",
    "\\min & \\sum_{a,b=1}^{200} T_{ab}\\cdot D_{ab}. \\\\\n",
    "\\text{subject to } & P_a = \\sum_{b=1}^{200} T_{ab} \\text{ and } Q_b = \\sum_{a=1}^{200} T_{ab}.\n",
    "\\end{align}\n",
    "$$\n",
    "This optimization problem is solved by the python package [optimal transport](https://pot.readthedocs.io/en/stable/). Suppose $T_{ab}^*$ is the optimal solution. Then, our \n",
    "distance between $\\{r_i\\}_{i=1}^M$ and $\\{s_j\\}_{j=1}^N$  is computed as\n",
    "$$\n",
    "D\\big(\\{r_i\\}_{i=1}^M, \\{s_j\\}_{j=1}^N\\big) = \\sum_{a,b=1}^{200} T^*_{ab}\\cdot D_{ab}.\n",
    "$$\n",
    "\n",
    "More reference can be found at the [wiki page](https://en.wikipedia.org/wiki/Wasserstein_metric) and the [tutorial](http://www.stat.cmu.edu/~larry/=sml/Opt.pdf)."
   ]
  },
  {
   "cell_type": "markdown",
   "metadata": {},
   "source": [
    "## Numerical Example\n",
    "\n",
    "Basic setup:"
   ]
  },
  {
   "cell_type": "code",
   "execution_count": 1,
   "metadata": {},
   "outputs": [],
   "source": [
    "import matplotlib.pyplot as plt\n",
    "import matplotlib as mpl\n",
    "import numpy as np\n",
    "from astropy.io import fits\n",
    "from scipy import stats\n",
    "import wass\n",
    "\n",
    "\n",
    "def readData(filePath):\n",
    "    ffile = fits.open(filePath)\n",
    "    u1 = ffile[1].data['u']\n",
    "    g1 = ffile[1].data['g']\n",
    "    r1 = ffile[1].data['r']\n",
    "    i1 = ffile[1].data['i']\n",
    "    z1 = ffile[1].data['z']\n",
    "    ds1 = np.vstack((u1,g1,r1,i1,z1)).T\n",
    "    sel = np.sum(np.abs(ds1) == 99,1) == 0\n",
    "    data = ds1[sel,:]\n",
    "    ffile.close()\n",
    "    return data\n"
   ]
  },
  {
   "cell_type": "markdown",
   "metadata": {},
   "source": [
    "Read two data sets from \n",
    ">      Zhou. et al.(2019) Deep ugrizY Imaging and DEEP2/3 Spectroscopy ....\n",
    "\n",
    "We will compare the difference between the two datasets, `ds1` and `ds2`. \n",
    "The loaded numpy arrays contain the $ugriz$ magnitude with missing values removed."
   ]
  },
  {
   "cell_type": "code",
   "execution_count": 3,
   "metadata": {},
   "outputs": [
    {
     "name": "stderr",
     "output_type": "stream",
     "text": [
      "100% (2000 of 2000) |####################| Elapsed Time: 0:00:07 Time:  0:00:07\n"
     ]
    },
    {
     "data": {
      "text/plain": [
       "(1.5455423473913257, 0.022624684995631698)"
      ]
     },
     "execution_count": 3,
     "metadata": {},
     "output_type": "execute_result"
    }
   ],
   "source": [
    "ds1 = readData(\"./data/3D-HST_Terapix_Wide_Subaru_v1.fits\")\n",
    "ds2 = readData(\"./data/DEEP2_uniq_Terapix_Wide_Subaru_v1.fits\")\n",
    "wass.compareDensity(ds1, ds2)"
   ]
  },
  {
   "cell_type": "code",
   "execution_count": 4,
   "metadata": {},
   "outputs": [
    {
     "name": "stderr",
     "output_type": "stream",
     "text": [
      "100% (2000 of 2000) |####################| Elapsed Time: 0:00:09 Time:  0:00:09\n"
     ]
    },
    {
     "data": {
      "text/plain": [
       "(0.03127851119548137, 0.00026472907337255625)"
      ]
     },
     "execution_count": 4,
     "metadata": {},
     "output_type": "execute_result"
    }
   ],
   "source": [
    "ds1 = readData(\"./data/DEEP2_uniq_Terapix_Subaru_v1.fits\")\n",
    "ds2 = readData(\"./data/DEEP2_uniq_Terapix_Wide_Subaru_v1.fits\")\n",
    "wass.compareDensity(ds1, ds2)"
   ]
  }
 ],
 "metadata": {
  "kernelspec": {
   "display_name": "Python 3",
   "language": "python",
   "name": "python3"
  },
  "language_info": {
   "codemirror_mode": {
    "name": "ipython",
    "version": 3
   },
   "file_extension": ".py",
   "mimetype": "text/x-python",
   "name": "python",
   "nbconvert_exporter": "python",
   "pygments_lexer": "ipython3",
   "version": "3.7.4"
  }
 },
 "nbformat": 4,
 "nbformat_minor": 4
}

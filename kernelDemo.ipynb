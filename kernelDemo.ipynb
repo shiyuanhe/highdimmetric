{
 "cells": [
  {
   "cell_type": "markdown",
   "metadata": {},
   "source": [
    "The code implements the kernel two sample test from the paper\n",
    "> Gretton, A., Borgwardt, K. M., Rasch, M. J., Schölkopf, B., & Smola, A. (2012). A kernel two-sample test. Journal of Machine Learning Research, 13(Mar), 723-773.\n",
    "\n",
    "Suppose we have observed $d$-dimensional $x_1, \\cdots, x_m\\in\\mathbb{R}^d$ following the distribution of a random variable $X\\sim p$. In addition, we  observe another group of observations $y_1, \\cdots, y_n\\in\\mathbb{R}^d$ which follow the distribution of a random variable $Y\\sim q$. The work of Gretton (2012) tests the whether the distributions of $X$ and $Y$ are the same by computing the ***maximum mean discrepancy (MMD)***\n",
    "$$\n",
    "\\text{MMD}^2[\\mathcal{F}, p,q] = \\sup_{f\\in\\mathcal{F}} \\big(\\mathbb{E}_X f(X) - \\mathbb{E}_Y f(Y) \\big).\n",
    "$$\n",
    "The above supremum searches a function $f$ in the reproducing kernel Hilbert space $\\mathcal{F}$. This function maximizes the difference between the two expections. Intuitively, greater discrepancy between the two distributions will result in larger value of MMD. The optimal function $f^*$ achieving the supremum of MMD is called the ***witness function***. It helps to visualize the difference between two distributions in the code below.\n",
    "\n",
    "The paper presents a equivalent representation of MMD by the kernel $k(\\cdot, \\cdot)$ of $\\mathcal{F}$. \n",
    "$$\n",
    "\\text{MMD}^2[\\mathcal{F}, p,q] = \\mathbb{E}_{X,X'} k(X,X') +  \\mathbb{E}_{Y,Y'} k(Y,Y') - \n",
    "2\\mathbb{E}_{X,Y} k(X,Y).\n",
    "$$\n",
    "To compute the value of MMD, sample averages of kernel are used in the places of the above expectations.\n",
    "\n"
   ]
  },
  {
   "cell_type": "markdown",
   "metadata": {},
   "source": [
    "## Example 1\n",
    "\n",
    "Basic setup:"
   ]
  },
  {
   "cell_type": "code",
   "execution_count": 1,
   "metadata": {},
   "outputs": [],
   "source": [
    "import matplotlib.pyplot as plt\n",
    "import matplotlib as mpl\n",
    "import numpy as np\n",
    "from astropy.io import fits\n",
    "from scipy import stats\n",
    "\n",
    "def readData(filePath):\n",
    "    ffile = fits.open(filePath)\n",
    "    u1 = ffile[1].data['u']\n",
    "    g1 = ffile[1].data['g']\n",
    "    r1 = ffile[1].data['r']\n",
    "    i1 = ffile[1].data['i']\n",
    "    z1 = ffile[1].data['z']\n",
    "    ds1 = np.vstack((u1,g1,r1,i1,z1)).T\n",
    "    sel = np.sum(np.abs(ds1) == 99,1) == 0\n",
    "    data = ds1[sel,:]\n",
    "    ffile.close()\n",
    "    return data\n"
   ]
  },
  {
   "cell_type": "markdown",
   "metadata": {},
   "source": [
    "Read two data sets from \n",
    ">      Zhou. et al.(2019) Deep ugrizY Imaging and DEEP2/3 Spectroscopy ....\n",
    "\n",
    "We will compare the difference between the two datasets, `ds1` and `ds2`. \n",
    "The loaded numpy arrays contain the $ugriz$ magnitude with missing values removed."
   ]
  },
  {
   "cell_type": "code",
   "execution_count": 2,
   "metadata": {},
   "outputs": [],
   "source": [
    "ds1 = readData(\"./data/3D-HST_Terapix_Wide_Subaru_v1.fits\")\n",
    "ds2 = readData(\"./data/DEEP2_uniq_Terapix_Wide_Subaru_v1.fits\")"
   ]
  },
  {
   "cell_type": "code",
   "execution_count": 3,
   "metadata": {},
   "outputs": [],
   "source": [
    "# load the test module\n",
    "import kernelCompare as kc\n",
    "# create an object by passing in the two datasets for comparision\n",
    "obj = kc.kernelCompare(ds1, ds2)"
   ]
  },
  {
   "cell_type": "markdown",
   "metadata": {},
   "source": [
    "The method `compute(iterations=1000)`  computes the value of maximum mean discrepancy (MMD) as well as its p-value. The p-value is computed by permuting and mixing the two datsets. Each iteration of permutation will produce a MMD value. The p-value is the percentage of iterations whose MMD value is larger than the MMD value from the actual (un-permuted) dataset. \n",
    "\n",
    "- Larger MMD value implies greater discrepancy between the two datasets.\n",
    "- The estimated MMD value could be negative.\n",
    "- The parameter `iterations` specify the total number of  permutations.\n",
    "\n",
    "The result below shows the difference between the two distributios is significant (p value is 0.001)."
   ]
  },
  {
   "cell_type": "code",
   "execution_count": 4,
   "metadata": {},
   "outputs": [
    {
     "name": "stderr",
     "output_type": "stream",
     "text": [
      "100% (1000 of 1000) |####################| Elapsed Time: 0:00:14 Time:  0:00:14\n"
     ]
    },
    {
     "name": "stdout",
     "output_type": "stream",
     "text": [
      "MMD statistics is 0.110466\n",
      "The p-value of the test is 0.001000\n"
     ]
    }
   ],
   "source": [
    "MMD, pValue = obj.compute(iterations=1000)\n",
    "print(\"MMD statistics is %f\" % MMD)\n",
    "print(\"The p-value of the test is %f\" % pValue)"
   ]
  },
  {
   "cell_type": "markdown",
   "metadata": {},
   "source": [
    "-\n",
    "\n",
    "\n",
    "\n",
    "The difference between the two datasets can be visualized by the method `plotDiff(coord1, coord2)`.\n",
    "\n",
    "\n",
    "In fact, the code below plots the witness function $f^*(z)$ along $(z_0, z_1)$ specified by `coord1=0` \n",
    "`coord2=1`. The  two coordiates $(z_0, z_1)$ vary with all possible values\n",
    "(i.e., for the magnitude values of $ug$). The other coordinates `z[2]`, `z[3]` and `z[4]` (for the magntitude values of $riz$) are fixed at the mean value of the datasets. In this way, the value of the function $f^*(z)$ is plotted."
   ]
  },
  {
   "cell_type": "code",
   "execution_count": 5,
   "metadata": {},
   "outputs": [
    {
     "data": {
      "image/png": "[encoded data removed]",
      "text/plain": [
       "<Figure size 432x288 with 2 Axes>"
      ]
     },
     "metadata": {
      "needs_background": "light"
     },
     "output_type": "display_data"
    }
   ],
   "source": [
    "obj.plotDiff(coord1 = 0, coord2 = 1)"
   ]
  },
  {
   "cell_type": "markdown",
   "metadata": {},
   "source": [
    "In this plot, the red reigions (with negative values) indicate  where the first dataset has *less* data points than the second dataset. The blue regions (with positive values) indicate  where the first dataset has *more* data points than the first dataset.\n",
    "\n",
    "In the center of the plot above, the abosolute value of $-0.14$ is relatively large. It's significant that the second datsets is denser in the center. "
   ]
  },
  {
   "cell_type": "markdown",
   "metadata": {},
   "source": [
    "## Example 2\n",
    "We apply the method on another two datasets. We find the difference between the two dataset is not significant (p-value is 1)."
   ]
  },
  {
   "cell_type": "code",
   "execution_count": 6,
   "metadata": {},
   "outputs": [
    {
     "name": "stderr",
     "output_type": "stream",
     "text": [
      "100% (1000 of 1000) |####################| Elapsed Time: 0:00:22 Time:  0:00:22\n"
     ]
    },
    {
     "name": "stdout",
     "output_type": "stream",
     "text": [
      "MMD2 statistics is -0.138357\n",
      "The p-value of the test is 1\n"
     ]
    }
   ],
   "source": [
    "ds1 = readData(\"./data/DEEP2_uniq_Terapix_Subaru_v1.fits\")\n",
    "ds2 = readData(\"./data/DEEP2_uniq_Terapix_Wide_Subaru_v1.fits\")\n",
    "obj = kc.kernelCompare(ds1,ds2)\n",
    "MMD2, pValue = obj.compute(1000)\n",
    "print(\"MMD2 statistics is %f\" % MMD2)\n",
    "print(\"The p-value of the test is %d\" % pValue)"
   ]
  },
  {
   "cell_type": "markdown",
   "metadata": {},
   "source": [
    "For these two datasets, we plot their difference along $(z_3, z_4)$ specified by `coord1=3` \n",
    "`coord2=4`. We find in the center of the plot, there is a blue region taking positive values. \n",
    "However, the value is only $0.015$. This means the first dataset has slightly more points in the center."
   ]
  },
  {
   "cell_type": "code",
   "execution_count": 7,
   "metadata": {},
   "outputs": [
    {
     "data": {
      "image/png": "[encoded data removed]",
      "text/plain": [
       "<Figure size 432x288 with 2 Axes>"
      ]
     },
     "metadata": {
      "needs_background": "light"
     },
     "output_type": "display_data"
    }
   ],
   "source": [
    "obj.plotDiff(coord1 = 3, coord2 =4)"
   ]
  },
  {
   "cell_type": "code",
   "execution_count": null,
   "metadata": {},
   "outputs": [],
   "source": []
  }
 ],
 "metadata": {
  "kernelspec": {
   "display_name": "Python 3",
   "language": "python",
   "name": "python3"
  },
  "language_info": {
   "codemirror_mode": {
    "name": "ipython",
    "version": 3
   },
   "file_extension": ".py",
   "mimetype": "text/x-python",
   "name": "python",
   "nbconvert_exporter": "python",
   "pygments_lexer": "ipython3",
   "version": "3.7.4"
  }
 },
 "nbformat": 4,
 "nbformat_minor": 4
}

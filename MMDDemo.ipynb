{
 "cells": [
  {
   "cell_type": "code",
   "execution_count": 62,
   "metadata": {},
   "outputs": [],
   "source": [
    "from forest import data_generation\n",
    "import matplotlib.pyplot as plt\n",
    "import matplotlib as mpl\n",
    "from scipy import stats\n",
    "import kernelCompare as kc\n",
    "import numpy as np\n",
    "import random\n"
   ]
  },
  {
   "cell_type": "markdown",
   "metadata": {},
   "source": [
    "## Maximum Mean Discrepancy\n",
    "\n",
    "The code implements the two sample test from the paper：\n",
    "> Gretton, A., Borgwardt, K. M., Rasch, M. J., Schölkopf, B., & Smola, A. (2012). A kernel two-sample test. Journal of Machine Learning Research, 13(Mar), 723-773.\n",
    "\n",
    "\n",
    "Test the difference between two samples:\n",
    "- $X_1, \\cdots, X_{n_X}\\sim P$ and \n",
    "- $Y_1, \\cdots, Y_{n_Y}\\sim Q$. \n",
    "\n",
    "Intuitively, if $P=Q$, then for any $f$ we expect that\n",
    "$$\n",
    "\\mathbb{E}_X f(X) = \\mathbb{E}_Y f(Y).\n",
    "$$\n",
    "\n",
    "\n",
    "The work of Gretton (2012) tests the whether the distributions of $X$ and $Y$ are the same by computing the ***maximum mean discrepancy (MMD)***\n",
    "$$\n",
    "\\text{MMD}^2[\\mathcal{F}, p,q] = \\sup_{f\\in\\mathcal{F}} \\big(\\mathbb{E}_X f(X) - \\mathbb{E}_Y f(Y) \\big).\n",
    "$$\n",
    "\n",
    "- The function $f$ is in a reproducing kernel Hilbert space $\\mathcal{F}$. \n",
    "- An kernel $k(\\cdot, \\cdot)$ associated with $\\mathcal{F}$.\n",
    "\n",
    "\n",
    "An equivalent representation of MMD  \n",
    "$$\n",
    "\\begin{align*}\n",
    "&\\text{MMD}^2[\\mathcal{F}, p,q]\\\\\n",
    "=& \\mathbb{E}_{X,X'} k(X,X') +  \\mathbb{E}_{Y,Y'} k(Y,Y') - \n",
    "2\\mathbb{E}_{X,Y} k(X,Y). \\\\\n",
    "\\approx & \\frac{1}{n_X-1}\\sum_{i=1}^{N_X} k(X_i,X_{i+1})+\n",
    "\\frac{1}{n_Y-1}\\sum_{i=1}^{N_Y} k(Y_i,Y_{i+1})-\n",
    "2\\frac{1}{p}\\sum_{i=1}^p k(X_i,Y_{i}),\n",
    "\\end{align*}\n",
    "$$\n",
    "with $p = \\min\\{n_X, n_Y\\}$.\n",
    "\n",
    "\n",
    "\n",
    "- The optimal function $f^*$  is called the ***witness function***. \n",
    "$$\n",
    "f^*(z) = \\frac{1}{n_X}\\sum_{i=1}^{n_X} k(z,X_i)-\n",
    " \\frac{1}{n_Y}\\sum_{i=1}^{n_Y} k(z,Y_i).\n",
    "$$\n"
   ]
  },
  {
   "cell_type": "markdown",
   "metadata": {},
   "source": [
    "### How to obtain p-value?\n",
    "\n"
   ]
  },
  {
   "cell_type": "code",
   "execution_count": 74,
   "metadata": {
    "jupyter": {
     "source_hidden": true
    }
   },
   "outputs": [
    {
     "data": {
      "image/png": "[encoded data removed]",
      "text/plain": [
       "<Figure size 720x504 with 1 Axes>"
      ]
     },
     "metadata": {
      "needs_background": "light"
     },
     "output_type": "display_data"
    }
   ],
   "source": [
    "np.random.seed(0)\n",
    "dataD = np.array([0.5,0.5,0.5,1.5,2.5,2.5,2.5,2.5]).reshape((8,)) + np.random.normal(scale = 0.8,size = (8,))\n",
    "dataD2 = np.array([0.5,0.5,0.5,1.5,1.5,2.5,2.5,2.5]).reshape((8,)) + np.random.normal(scale = 0.8,size = (8,))+5\n",
    "y =  np.random.normal(size = (8,),scale = 0.05,)\n",
    "dataD = np.hstack((dataD,dataD2))\n",
    "y = np.hstack((y,y))\n",
    "\n",
    "sel = np.repeat(True,16)\n",
    "sel[:8] = False\n",
    "\n",
    "plt.figure(figsize=(10,7))\n",
    "for i in range(5):\n",
    "    plt.scatter(dataD[sel],y[sel]-i,c=\"red\",marker = \"v\")\n",
    "    plt.scatter(dataD[np.logical_not(sel)],y[np.logical_not(sel)]-i,c=\"blue\",marker = \"x\")\n",
    "    sel = random.sample(list(sel),k=16)\n",
    "    txtf = \"Original\"\n",
    "    if i > 0:\n",
    "        txtf = \"Permute \" + str(i)\n",
    "    plt.text(-1,-i,txtf,ha='center',fontdict = dict(size = 12, family= 'serif'))\n",
    "\n",
    "\n",
    "\n",
    "plt.ylim(-0.5,0.5)\n",
    "plt.yticks([])\n",
    "plt.xlim(-3,9)\n",
    "plt.ylim(-5,0.5)\n",
    "plt.show()"
   ]
  },
  {
   "cell_type": "markdown",
   "metadata": {},
   "source": [
    "## Examples\n",
    "\n",
    "### Eg. 1\n",
    "\n",
    "Both $X_1,\\cdots, X_{900}$ and $Y_1,\\cdots, Y_{900}$ comes from the same distribution\n",
    "$$\n",
    "(1/3)N(\\boldsymbol{\\mu}_1,\\mathbf{\\Sigma}_1)+\n",
    "(1/3)N(\\boldsymbol{\\mu}_2,\\mathbf{\\Sigma}_2)+\n",
    "(1/3)N(\\boldsymbol{\\mu}_3,\\mathbf{\\Sigma}_3),\n",
    "$$\n",
    "where\n",
    "$$\n",
    "\\boldsymbol{\\mu}_1 = \\begin{pmatrix}\n",
    "0\\\\0\\\\0\\\\0\\end{pmatrix},\\quad\n",
    "\\boldsymbol{\\mu}_2 = \\begin{pmatrix}\n",
    "0\\\\10\\\\3\\\\0\\end{pmatrix},\\quad\n",
    "\\boldsymbol{\\mu}_3 = \\begin{pmatrix}\n",
    "2\\\\1\\\\4\\\\5\\end{pmatrix}.\n",
    "$$"
   ]
  },
  {
   "cell_type": "code",
   "execution_count": 2,
   "metadata": {
    "jupyter": {
     "source_hidden": true
    }
   },
   "outputs": [
    {
     "name": "stderr",
     "output_type": "stream",
     "text": [
      "100% (1000 of 1000) |####################| Elapsed Time: 0:00:01 Time:  0:00:01\n"
     ]
    },
    {
     "name": "stdout",
     "output_type": "stream",
     "text": [
      "MMD statistics is 0.001167\n",
      "The p-value of the test is 0.395000\n"
     ]
    },
    {
     "data": {
      "image/png": "[encoded data removed]",
      "text/plain": [
       "<Figure size 432x288 with 1 Axes>"
      ]
     },
     "metadata": {
      "needs_background": "light"
     },
     "output_type": "display_data"
    }
   ],
   "source": [
    "mean1 = [[0, 0, 0, 0], \n",
    "         [0, 10, 3, 0], \n",
    "         [2, 1, 4, 5]]\n",
    "cov1 = [[[10, 0, 0, 0], [0, 80, 0, 0], [0, 0, 30, 0], [0, 0, 0, 50]], \n",
    "        [[10, 1, 1, 1], [1, 80, 1, 1], [1, 1, 30, 1], [1, 1, 1, 50]],\n",
    "        [[10, -3, -2, -2], [-3, 80, -2, -2], [-2, -2, 30, -2], [-2, -2, -2, 50]]]\n",
    "n2 = [300, 300, 300]\n",
    "\n",
    "np.random.seed(0)\n",
    "X = data_generation(mean1, cov1, n2)\n",
    "Y = data_generation(mean1, cov1, n2)\n",
    "\n",
    "obj = kc.kernelCompare(X, Y)\n",
    "MMD, pValue = obj.compute(iterations=1000,plot = True)\n",
    "print(\"MMD statistics is %f\" % MMD)\n",
    "print(\"The p-value of the test is %f\" % pValue)"
   ]
  },
  {
   "cell_type": "markdown",
   "metadata": {},
   "source": [
    "### Eg. 2\n",
    "\n",
    "The first group $X_1,\\cdots, X_{900}$  comes from (a missing component)\n",
    "$$\n",
    "(1/2)N(\\boldsymbol{\\mu}_1,\\mathbf{\\Sigma}_1)+\n",
    "(0)N(\\boldsymbol{\\mu}_2,\\mathbf{\\Sigma}_2)+\n",
    "(1/2)N(\\boldsymbol{\\mu}_3,\\mathbf{\\Sigma}_3),\n",
    "$$\n",
    "and the second group  $Y_1,\\cdots, Y_{900}$ comes from\n",
    "$$\n",
    "(1/3)N(\\boldsymbol{\\mu}_1,\\mathbf{\\Sigma}_1)+\n",
    "(1/3)N(\\boldsymbol{\\mu}_2,\\mathbf{\\Sigma}_2)+\n",
    "(1/3)N(\\boldsymbol{\\mu}_3,\\mathbf{\\Sigma}_3),\n",
    "$$\n",
    "where\n",
    "$$\n",
    "\\boldsymbol{\\mu}_1 = \\begin{pmatrix}\n",
    "0\\\\0\\\\0\\\\0\\end{pmatrix},\\quad\n",
    "\\boldsymbol{\\mu}_2 = \\begin{pmatrix}\n",
    "0\\\\10\\\\3\\\\0\\end{pmatrix},\\quad\n",
    "\\boldsymbol{\\mu}_3 = \\begin{pmatrix}\n",
    "2\\\\1\\\\4\\\\5\\end{pmatrix}.\n",
    "$$"
   ]
  },
  {
   "cell_type": "code",
   "execution_count": 3,
   "metadata": {
    "jupyter": {
     "source_hidden": true
    }
   },
   "outputs": [
    {
     "name": "stderr",
     "output_type": "stream",
     "text": [
      "100% (1000 of 1000) |####################| Elapsed Time: 0:00:01 Time:  0:00:01\n"
     ]
    },
    {
     "name": "stdout",
     "output_type": "stream",
     "text": [
      "MMD statistics is 0.002562\n",
      "The p-value of the test is 0.279000\n"
     ]
    },
    {
     "data": {
      "image/png": "[encoded data removed]",
      "text/plain": [
       "<Figure size 432x288 with 1 Axes>"
      ]
     },
     "metadata": {
      "needs_background": "light"
     },
     "output_type": "display_data"
    }
   ],
   "source": [
    "mean1 = [[0, 0, 0, 0], \n",
    "         [0, 10, 3, 0], \n",
    "         [2, 1, 4, 5]]\n",
    "cov1 = [[[10, 0, 0, 0], [0, 80, 0, 0], [0, 0, 30, 0], [0, 0, 0, 50]], \n",
    "        [[10, 1, 1, 1], [1, 80, 1, 1], [1, 1, 30, 1], [1, 1, 1, 50]],\n",
    "        [[10, -3, -2, -2], [-3, 80, -2, -2], [-2, -2, 30, -2], [-2, -2, -2, 50]]]\n",
    "n1 = [450, 0, 450]\n",
    "n2 = [300, 300, 300]\n",
    "\n",
    "np.random.seed(0)\n",
    "X = data_generation(mean1, cov1, n1)\n",
    "Y = data_generation(mean1, cov1, n2)\n",
    "\n",
    "obj = kc.kernelCompare(X, Y)\n",
    "MMD, pValue = obj.compute(iterations=1000, plot = True)\n",
    "print(\"MMD statistics is %f\" % MMD)\n",
    "print(\"The p-value of the test is %f\" % pValue)"
   ]
  },
  {
   "cell_type": "markdown",
   "metadata": {},
   "source": [
    "### Eg. 3\n",
    "Given the mixed distribution\n",
    "$$\n",
    "(1/3)N(\\boldsymbol{\\mu}_1,\\mathbf{\\Sigma}_1)+\n",
    "(1/3)N(\\boldsymbol{\\mu}_2,\\mathbf{\\Sigma}_2)+\n",
    "(1/3)N(\\boldsymbol{\\mu}_3,\\mathbf{\\Sigma}_3),\n",
    "$$\n",
    "The first group $X_1,\\cdots, X_{900}$ has mean vectors\n",
    "$$\n",
    "\\boldsymbol{\\mu}_{X1} = \\begin{pmatrix}\n",
    "0\\\\0\\\\0\\\\0\\end{pmatrix},\\quad\n",
    "\\boldsymbol{\\mu}_{X2} = \\begin{pmatrix}\n",
    "0\\\\10\\\\3\\\\0\\end{pmatrix},\\quad\n",
    "\\boldsymbol{\\mu}_{X3} = \\begin{pmatrix}\n",
    "2\\\\1\\\\4\\\\5\\end{pmatrix}.\n",
    "$$\n",
    "The second group $X_1,\\cdots, X_{900}$ has mean vectors\n",
    "$$\n",
    "\\boldsymbol{\\mu}_{Y1} = \\begin{pmatrix}\n",
    "1\\\\0\\\\0\\\\0\\end{pmatrix},\\quad\n",
    "\\boldsymbol{\\mu}_{Y2} = \\begin{pmatrix}\n",
    "1\\\\10\\\\3\\\\0\\end{pmatrix},\\quad\n",
    "\\boldsymbol{\\mu}_{Y3} = \\begin{pmatrix}\n",
    "3\\\\1\\\\4\\\\5\\end{pmatrix}.\n",
    "$$"
   ]
  },
  {
   "cell_type": "code",
   "execution_count": 4,
   "metadata": {
    "jupyter": {
     "source_hidden": true
    }
   },
   "outputs": [
    {
     "name": "stderr",
     "output_type": "stream",
     "text": [
      "100% (1000 of 1000) |####################| Elapsed Time: 0:00:01 Time:  0:00:01\n"
     ]
    },
    {
     "name": "stdout",
     "output_type": "stream",
     "text": [
      "MMD statistics is 0.002295\n",
      "The p-value of the test is 0.307000\n"
     ]
    },
    {
     "data": {
      "image/png": "[encoded data removed]",
      "text/plain": [
       "<Figure size 432x288 with 1 Axes>"
      ]
     },
     "metadata": {
      "needs_background": "light"
     },
     "output_type": "display_data"
    }
   ],
   "source": [
    "mean1 = [[0, 0, 0, 0], \n",
    "         [0, 10, 3, 0], \n",
    "         [2, 1, 4, 5]]\n",
    "mean2 = [[1, 0, 0, 0], \n",
    "         [1, 10, 3, 0], \n",
    "         [3, 1, 4, 5]]\n",
    "cov1 = [[[10, 0, 0, 0], [0, 80, 0, 0], [0, 0, 30, 0], [0, 0, 0, 50]], \n",
    "        [[10, 1, 1, 1], [1, 80, 1, 1], [1, 1, 30, 1], [1, 1, 1, 50]],\n",
    "        [[10, -3, -2, -2], [-3, 80, -2, -2], [-2, -2, 30, -2], [-2, -2, -2, 50]]]\n",
    "n2 = [300, 300, 300]\n",
    "\n",
    "np.random.seed(0)\n",
    "X = data_generation(mean1, cov1, n2)\n",
    "Y = data_generation(mean2, cov1, n2)\n",
    "\n",
    "obj = kc.kernelCompare(X, Y)\n",
    "MMD, pValue = obj.compute(iterations=1000, plot = True)\n",
    "print(\"MMD statistics is %f\" % MMD)\n",
    "print(\"The p-value of the test is %f\" % pValue)\n"
   ]
  },
  {
   "cell_type": "markdown",
   "metadata": {},
   "source": [
    "### Eg. 4\n",
    "Given the mixed distribution\n",
    "$$\n",
    "(1/3)N(\\boldsymbol{\\mu}_1,\\mathbf{\\Sigma}_1)+\n",
    "(1/3)N(\\boldsymbol{\\mu}_2,\\mathbf{\\Sigma}_2)+\n",
    "(1/3)N(\\boldsymbol{\\mu}_3,\\mathbf{\\Sigma}_3),\n",
    "$$\n",
    "The first group $X_1,\\cdots, X_{900}$ has mean vectors\n",
    "$$\n",
    "\\boldsymbol{\\mu}_{X1} = \\begin{pmatrix}\n",
    "0\\\\0\\\\0\\\\0\\end{pmatrix},\\quad\n",
    "\\boldsymbol{\\mu}_{X2} = \\begin{pmatrix}\n",
    "0\\\\10\\\\3\\\\0\\end{pmatrix},\\quad\n",
    "\\boldsymbol{\\mu}_{X3} = \\begin{pmatrix}\n",
    "2\\\\1\\\\4\\\\5\\end{pmatrix}.\n",
    "$$\n",
    "The second group $X_1,\\cdots, X_{900}$ has mean vectors\n",
    "$$\n",
    "\\boldsymbol{\\mu}_{Y1} = \\begin{pmatrix}\n",
    "1\\\\0\\\\0\\\\0\\end{pmatrix},\\quad\n",
    "\\boldsymbol{\\mu}_{Y2} = \\begin{pmatrix}\n",
    "1\\\\-10\\\\-3\\\\0\\end{pmatrix},\\quad\n",
    "\\boldsymbol{\\mu}_{Y3} = \\begin{pmatrix}\n",
    "3\\\\-1\\\\-4\\\\-5\\end{pmatrix}.\n",
    "$$"
   ]
  },
  {
   "cell_type": "code",
   "execution_count": 6,
   "metadata": {
    "jupyter": {
     "source_hidden": true
    }
   },
   "outputs": [
    {
     "name": "stderr",
     "output_type": "stream",
     "text": [
      "100% (1000 of 1000) |####################| Elapsed Time: 0:00:01 Time:  0:00:01\n"
     ]
    },
    {
     "name": "stdout",
     "output_type": "stream",
     "text": [
      "MMD statistics is 0.014910\n",
      "The p-value of the test is 0.001000\n"
     ]
    },
    {
     "data": {
      "image/png": "[encoded data removed]",
      "text/plain": [
       "<Figure size 432x288 with 1 Axes>"
      ]
     },
     "metadata": {
      "needs_background": "light"
     },
     "output_type": "display_data"
    }
   ],
   "source": [
    "mean1 = [[0, 0, 0, 0], \n",
    "         [0, 10, 3, 0], \n",
    "         [2, 1, 4, 5]]\n",
    "mean2 = [[1, 0, 0, 0], \n",
    "         [1, -10, -3, 0], \n",
    "         [3, -1, -4, -5]]\n",
    "cov1 = [[[10, 0, 0, 0], [0, 80, 0, 0], [0, 0, 30, 0], [0, 0, 0, 50]], \n",
    "        [[10, 1, 1, 1], [1, 80, 1, 1], [1, 1, 30, 1], [1, 1, 1, 50]],\n",
    "        [[10, -3, -2, -2], [-3, 80, -2, -2], [-2, -2, 30, -2], [-2, -2, -2, 50]]]\n",
    "n2 = [300, 300, 300, 300, 300]\n",
    "\n",
    "np.random.seed(0)\n",
    "X = data_generation(mean1, cov1, n2)\n",
    "Y = data_generation(mean2, cov1, n2)\n",
    "\n",
    "obj = kc.kernelCompare(X, Y)\n",
    "MMD, pValue = obj.compute(iterations=1000,plot = True)\n",
    "print(\"MMD statistics is %f\" % MMD)\n",
    "print(\"The p-value of the test is %f\" % pValue)\n"
   ]
  },
  {
   "cell_type": "code",
   "execution_count": 9,
   "metadata": {},
   "outputs": [
    {
     "data": {
      "image/png": "[encoded data removed]",
      "text/plain": [
       "<Figure size 432x288 with 2 Axes>"
      ]
     },
     "metadata": {
      "needs_background": "light"
     },
     "output_type": "display_data"
    }
   ],
   "source": [
    "obj.plotDiff(coord1=0,coord2=1)"
   ]
  },
  {
   "cell_type": "code",
   "execution_count": 11,
   "metadata": {},
   "outputs": [
    {
     "data": {
      "image/png": "[encoded data removed]",
      "text/plain": [
       "<Figure size 432x288 with 2 Axes>"
      ]
     },
     "metadata": {
      "needs_background": "light"
     },
     "output_type": "display_data"
    }
   ],
   "source": [
    "obj.plotDiff(coord1=2,coord2=3)"
   ]
  },
  {
   "cell_type": "code",
   "execution_count": null,
   "metadata": {},
   "outputs": [],
   "source": []
  }
 ],
 "metadata": {
  "kernelspec": {
   "display_name": "Python 3",
   "language": "python",
   "name": "python3"
  },
  "language_info": {
   "codemirror_mode": {
    "name": "ipython",
    "version": 3
   },
   "file_extension": ".py",
   "mimetype": "text/x-python",
   "name": "python",
   "nbconvert_exporter": "python",
   "pygments_lexer": "ipython3",
   "version": "3.7.4"
  }
 },
 "nbformat": 4,
 "nbformat_minor": 4
}
